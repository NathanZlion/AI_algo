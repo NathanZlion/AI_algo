{
 "cells": [
  {
   "attachments": {},
   "cell_type": "markdown",
   "id": "0580c92a",
   "metadata": {},
   "source": [
    "2. Evaluating BFS, DFS, UCS, Iterative Deepening, Bidirectional Search, Greedy, and A* Search algorithms using the graph from Question 2 and benchmarking them. \n",
    "    - The benchmark should be finding the path between each node. Randomly pick 10 cities. Find the path between them.\n",
    "\n",
    "For each algorithm :-\n",
    "    - What is the average time taken for each path search?\n",
    "    - What is the solution length?\n",
    "\n",
    "Each experiment should be run 10 times\n"
   ]
  },
  {
   "cell_type": "code",
   "execution_count": null,
   "id": "00b7fb51",
   "metadata": {},
   "outputs": [],
   "source": [
    "\n",
    "import random\n",
    "from Searches import Search as ser\n",
    "from undirectedGraph import Graph\n",
    "from romaniaCity import Romania\n",
    "from time import perf_counter as prf_ctr\n",
    "from matplotlib import pyplot as plt\n",
    "import numpy as np\n",
    "\n",
    "\n",
    "romania = Romania()\n",
    "romania_graph = romania.get_city()\n",
    "romania_coordinates = romania.get_coordinates()\n",
    "search = ser()\n",
    "\n",
    "start = 0\n",
    "end = romania_graph.get_number_of_nodes()\n",
    "cities_list = list(romania_graph.get_nodes().keys())\n",
    "search_algorightms_list = [search.a_star_search, search.bfs, search.bidirectional_search, search.dijkstra, search.ucs, search.ids, search.dfs, search.greedy_search]\n",
    "\n",
    "randomlist = random.sample(range(start, end), 10)\n",
    "\n",
    "\n",
    "\n",
    "\n"
   ]
  }
 ],
 "metadata": {
  "kernelspec": {
   "display_name": "Python 3 (ipykernel)",
   "language": "python",
   "name": "python3"
  },
  "language_info": {
   "codemirror_mode": {
    "name": "ipython",
    "version": 3
   },
   "file_extension": ".py",
   "mimetype": "text/x-python",
   "name": "python",
   "nbconvert_exporter": "python",
   "pygments_lexer": "ipython3",
   "version": "3.10.9"
  }
 },
 "nbformat": 4,
 "nbformat_minor": 5
}
